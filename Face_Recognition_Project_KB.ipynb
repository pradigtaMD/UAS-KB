{
  "cells": [
    {
      "cell_type": "markdown",
      "metadata": {
        "id": "view-in-github",
        "colab_type": "text"
      },
      "source": [
        "<a href=\"https://colab.research.google.com/github/pradigtaMD/UAS-KB/blob/main/Face_Recognition_Project_KB.ipynb\" target=\"_parent\"><img src=\"https://colab.research.google.com/assets/colab-badge.svg\" alt=\"Open In Colab\"/></a>"
      ]
    },
    {
      "cell_type": "code",
      "execution_count": null,
      "metadata": {
        "id": "HJHC6oab74x5"
      },
      "outputs": [],
      "source": [
        "import cv2\n",
        "import numpy as np\n",
        "from sklearn.model_selection import train_test_split\n",
        "from sklearn.svm import SVC\n",
        "from sklearn.metrics import accuracy_score\n",
        "from skimage.feature import hog\n",
        "from tensorflow import keras\n",
        "from tensorflow.keras import layers\n",
        "import os\n",
        "from sklearn.preprocessing import LabelEncoder"
      ]
    },
    {
      "cell_type": "code",
      "execution_count": null,
      "metadata": {
        "id": "3c7IYjrh8idm",
        "colab": {
          "base_uri": "https://localhost:8080/"
        },
        "outputId": "1b15c3db-8e51-4bbc-c306-a23a633cb475"
      },
      "outputs": [
        {
          "output_type": "stream",
          "name": "stdout",
          "text": [
            "Drive already mounted at /content/drive; to attempt to forcibly remount, call drive.mount(\"/content/drive\", force_remount=True).\n"
          ]
        }
      ],
      "source": [
        "from google.colab import drive\n",
        "drive.mount('/content/drive')"
      ]
    },
    {
      "cell_type": "code",
      "execution_count": null,
      "metadata": {
        "id": "_01NY_ae7xrF"
      },
      "outputs": [],
      "source": [
        "# Function to load images from a directory\n",
        "def load_images_from_folder(folder):\n",
        "    images = []\n",
        "    labels = []\n",
        "    for person in os.listdir(folder):\n",
        "        person_folder = os.path.join(folder, person)\n",
        "        if os.path.isdir(person_folder):\n",
        "            for filename in os.listdir(person_folder):\n",
        "                img = cv2.imread(os.path.join(person_folder, filename))\n",
        "                if img is not None:\n",
        "                    images.append(img)\n",
        "                    labels.append(person)\n",
        "    return np.array(images), np.array(labels)\n"
      ]
    },
    {
      "cell_type": "code",
      "execution_count": null,
      "metadata": {
        "id": "qhu0gXeB8A8K"
      },
      "outputs": [],
      "source": [
        "# Function to preprocess images\n",
        "def preprocess_images(images):\n",
        "    resized_images = [cv2.resize(img, (140, 140)) for img in images]\n",
        "    return np.array(resized_images)\n",
        "\n"
      ]
    },
    {
      "cell_type": "code",
      "execution_count": null,
      "metadata": {
        "id": "eA0flpfp8E3p"
      },
      "outputs": [],
      "source": [
        "# Function to extract HOG features from an image\n",
        "def extract_hog_features(image):\n",
        "    features, _ = hog(image, orientations=9, pixels_per_cell=(8, 8),\n",
        "                      cells_per_block=(2, 2), visualize=True, multichannel=True)\n",
        "    return features\n"
      ]
    },
    {
      "cell_type": "code",
      "execution_count": null,
      "metadata": {
        "id": "aeRl5kVx8ITo"
      },
      "outputs": [],
      "source": [
        "# Function to create a more complex CNN model\n",
        "def create_complex_cnn(input_shape, num_classes):\n",
        "    model = keras.Sequential([\n",
        "        layers.Conv2D(32, (3, 3), activation='relu', input_shape=input_shape),\n",
        "        layers.MaxPooling2D((2, 2)),\n",
        "        layers.Conv2D(64, (3, 3), activation='relu'),\n",
        "        layers.MaxPooling2D((2, 2)),\n",
        "        layers.Flatten(),\n",
        "        layers.Dense(256, activation='relu', kernel_regularizer=keras.regularizers.l2(0.01)),\n",
        "        layers.Dropout(0.5),  # Add dropout for regularization\n",
        "        layers.Dense(128, activation='relu', kernel_regularizer=keras.regularizers.l2(0.01)),\n",
        "        layers.Dense(num_classes, activation='softmax')\n",
        "    ])\n",
        "    model.compile(optimizer='adam', loss='sparse_categorical_crossentropy', metrics=['accuracy'])\n",
        "    return model\n"
      ]
    },
    {
      "cell_type": "code",
      "execution_count": null,
      "metadata": {
        "colab": {
          "base_uri": "https://localhost:8080/"
        },
        "id": "p1245HwG8I9p",
        "outputId": "5c0acead-1918-4e21-d3f7-d097aa96323a"
      },
      "outputs": [
        {
          "output_type": "stream",
          "name": "stderr",
          "text": [
            "<ipython-input-3-09215b53db31>:13: VisibleDeprecationWarning: Creating an ndarray from ragged nested sequences (which is a list-or-tuple of lists-or-tuples-or ndarrays with different lengths or shapes) is deprecated. If you meant to do this, you must specify 'dtype=object' when creating the ndarray.\n",
            "  return np.array(images), np.array(labels)\n"
          ]
        }
      ],
      "source": [
        "# Load face images and labels\n",
        "folder_path = '/content/drive/MyDrive/Dataset'  # Replace with the path to your dataset\n",
        "images, labels = load_images_from_folder(folder_path)"
      ]
    },
    {
      "cell_type": "code",
      "execution_count": null,
      "metadata": {
        "id": "vG3RV5ceFGfQ"
      },
      "outputs": [],
      "source": [
        "# Use LabelEncoder to convert string labels to numeric format\n",
        "label_encoder = LabelEncoder()\n",
        "numeric_labels = label_encoder.fit_transform(labels)"
      ]
    },
    {
      "cell_type": "code",
      "execution_count": null,
      "metadata": {
        "id": "QrJR4RNk8Na4"
      },
      "outputs": [],
      "source": [
        "# Preprocess images\n",
        "rescaled_images = preprocess_images(images)"
      ]
    },
    {
      "cell_type": "code",
      "execution_count": null,
      "metadata": {
        "id": "8aVp_jFs8R0A"
      },
      "outputs": [],
      "source": [
        "# Split the dataset into train and test sets\n",
        "X_train, X_test, y_train, y_test = train_test_split(rescaled_images, numeric_labels, test_size=0.2, random_state=42)"
      ]
    },
    {
      "cell_type": "code",
      "execution_count": null,
      "metadata": {
        "colab": {
          "base_uri": "https://localhost:8080/"
        },
        "id": "2qtBzLLu8UkA",
        "outputId": "5ce5a7ea-99b8-411c-8589-458afe9dc05b"
      },
      "outputs": [
        {
          "output_type": "stream",
          "name": "stdout",
          "text": [
            "Epoch 1/20\n",
            "31/31 [==============================] - 41s 1s/step - loss: 169.3914 - accuracy: 0.0358\n",
            "Epoch 2/20\n",
            "31/31 [==============================] - 39s 1s/step - loss: 9.5334 - accuracy: 0.1411\n",
            "Epoch 3/20\n",
            "31/31 [==============================] - 40s 1s/step - loss: 8.9359 - accuracy: 0.3395\n",
            "Epoch 4/20\n",
            "31/31 [==============================] - 40s 1s/step - loss: 8.3615 - accuracy: 0.5573\n",
            "Epoch 5/20\n",
            "31/31 [==============================] - 39s 1s/step - loss: 7.8169 - accuracy: 0.6963\n",
            "Epoch 6/20\n",
            "31/31 [==============================] - 41s 1s/step - loss: 7.6722 - accuracy: 0.7904\n",
            "Epoch 7/20\n",
            "31/31 [==============================] - 39s 1s/step - loss: 7.1537 - accuracy: 0.8609\n",
            "Epoch 8/20\n",
            "31/31 [==============================] - 42s 1s/step - loss: 6.8860 - accuracy: 0.8793\n",
            "Epoch 9/20\n",
            "31/31 [==============================] - 39s 1s/step - loss: 7.0602 - accuracy: 0.8620\n",
            "Epoch 10/20\n",
            "31/31 [==============================] - 41s 1s/step - loss: 6.8269 - accuracy: 0.8732\n",
            "Epoch 11/20\n",
            "31/31 [==============================] - 39s 1s/step - loss: 6.3266 - accuracy: 0.9162\n",
            "Epoch 12/20\n",
            "31/31 [==============================] - 40s 1s/step - loss: 6.1753 - accuracy: 0.9110\n",
            "Epoch 13/20\n",
            "31/31 [==============================] - 39s 1s/step - loss: 5.9858 - accuracy: 0.9356\n",
            "Epoch 14/20\n",
            "31/31 [==============================] - 40s 1s/step - loss: 5.7741 - accuracy: 0.9264\n",
            "Epoch 15/20\n",
            "31/31 [==============================] - 39s 1s/step - loss: 5.5397 - accuracy: 0.9387\n",
            "Epoch 16/20\n",
            "31/31 [==============================] - 41s 1s/step - loss: 5.4316 - accuracy: 0.9438\n",
            "Epoch 17/20\n",
            "31/31 [==============================] - 40s 1s/step - loss: 5.2584 - accuracy: 0.9458\n",
            "Epoch 18/20\n",
            "31/31 [==============================] - 41s 1s/step - loss: 5.1866 - accuracy: 0.9264\n",
            "Epoch 19/20\n",
            "31/31 [==============================] - 39s 1s/step - loss: 5.1591 - accuracy: 0.9274\n",
            "Epoch 20/20\n",
            "31/31 [==============================] - 41s 1s/step - loss: 5.1607 - accuracy: 0.9397\n"
          ]
        },
        {
          "output_type": "execute_result",
          "data": {
            "text/plain": [
              "<keras.src.callbacks.History at 0x7d6eebea77c0>"
            ]
          },
          "metadata": {},
          "execution_count": 32
        }
      ],
      "source": [
        "# Train the more complex CNN\n",
        "input_shape = X_train[0].shape\n",
        "num_classes = len(np.unique(numeric_labels))\n",
        "complex_cnn_model = create_complex_cnn(input_shape, num_classes)\n",
        "complex_cnn_model.fit(X_train, y_train, epochs=20)"
      ]
    },
    {
      "cell_type": "code",
      "execution_count": null,
      "metadata": {
        "colab": {
          "base_uri": "https://localhost:8080/"
        },
        "id": "eskCwHNN8fga",
        "outputId": "0a9fd0cc-34db-48aa-cc56-232ae971ab32"
      },
      "outputs": [
        {
          "output_type": "stream",
          "name": "stdout",
          "text": [
            "31/31 [==============================] - 10s 331ms/step\n",
            "8/8 [==============================] - 2s 234ms/step\n"
          ]
        }
      ],
      "source": [
        "# Extract feature maps from the convolutional neural network\n",
        "train_feature_maps = complex_cnn_model.predict(X_train)\n",
        "test_feature_maps = complex_cnn_model.predict(X_test)"
      ]
    },
    {
      "cell_type": "code",
      "execution_count": null,
      "metadata": {
        "colab": {
          "base_uri": "https://localhost:8080/",
          "height": 74
        },
        "id": "_3SY28Jx8hvS",
        "outputId": "6d05a3f4-7133-4849-9f9c-a9474c9c3835"
      },
      "outputs": [
        {
          "output_type": "execute_result",
          "data": {
            "text/plain": [
              "SVC()"
            ],
            "text/html": [
              "<style>#sk-container-id-3 {color: black;background-color: white;}#sk-container-id-3 pre{padding: 0;}#sk-container-id-3 div.sk-toggleable {background-color: white;}#sk-container-id-3 label.sk-toggleable__label {cursor: pointer;display: block;width: 100%;margin-bottom: 0;padding: 0.3em;box-sizing: border-box;text-align: center;}#sk-container-id-3 label.sk-toggleable__label-arrow:before {content: \"▸\";float: left;margin-right: 0.25em;color: #696969;}#sk-container-id-3 label.sk-toggleable__label-arrow:hover:before {color: black;}#sk-container-id-3 div.sk-estimator:hover label.sk-toggleable__label-arrow:before {color: black;}#sk-container-id-3 div.sk-toggleable__content {max-height: 0;max-width: 0;overflow: hidden;text-align: left;background-color: #f0f8ff;}#sk-container-id-3 div.sk-toggleable__content pre {margin: 0.2em;color: black;border-radius: 0.25em;background-color: #f0f8ff;}#sk-container-id-3 input.sk-toggleable__control:checked~div.sk-toggleable__content {max-height: 200px;max-width: 100%;overflow: auto;}#sk-container-id-3 input.sk-toggleable__control:checked~label.sk-toggleable__label-arrow:before {content: \"▾\";}#sk-container-id-3 div.sk-estimator input.sk-toggleable__control:checked~label.sk-toggleable__label {background-color: #d4ebff;}#sk-container-id-3 div.sk-label input.sk-toggleable__control:checked~label.sk-toggleable__label {background-color: #d4ebff;}#sk-container-id-3 input.sk-hidden--visually {border: 0;clip: rect(1px 1px 1px 1px);clip: rect(1px, 1px, 1px, 1px);height: 1px;margin: -1px;overflow: hidden;padding: 0;position: absolute;width: 1px;}#sk-container-id-3 div.sk-estimator {font-family: monospace;background-color: #f0f8ff;border: 1px dotted black;border-radius: 0.25em;box-sizing: border-box;margin-bottom: 0.5em;}#sk-container-id-3 div.sk-estimator:hover {background-color: #d4ebff;}#sk-container-id-3 div.sk-parallel-item::after {content: \"\";width: 100%;border-bottom: 1px solid gray;flex-grow: 1;}#sk-container-id-3 div.sk-label:hover label.sk-toggleable__label {background-color: #d4ebff;}#sk-container-id-3 div.sk-serial::before {content: \"\";position: absolute;border-left: 1px solid gray;box-sizing: border-box;top: 0;bottom: 0;left: 50%;z-index: 0;}#sk-container-id-3 div.sk-serial {display: flex;flex-direction: column;align-items: center;background-color: white;padding-right: 0.2em;padding-left: 0.2em;position: relative;}#sk-container-id-3 div.sk-item {position: relative;z-index: 1;}#sk-container-id-3 div.sk-parallel {display: flex;align-items: stretch;justify-content: center;background-color: white;position: relative;}#sk-container-id-3 div.sk-item::before, #sk-container-id-3 div.sk-parallel-item::before {content: \"\";position: absolute;border-left: 1px solid gray;box-sizing: border-box;top: 0;bottom: 0;left: 50%;z-index: -1;}#sk-container-id-3 div.sk-parallel-item {display: flex;flex-direction: column;z-index: 1;position: relative;background-color: white;}#sk-container-id-3 div.sk-parallel-item:first-child::after {align-self: flex-end;width: 50%;}#sk-container-id-3 div.sk-parallel-item:last-child::after {align-self: flex-start;width: 50%;}#sk-container-id-3 div.sk-parallel-item:only-child::after {width: 0;}#sk-container-id-3 div.sk-dashed-wrapped {border: 1px dashed gray;margin: 0 0.4em 0.5em 0.4em;box-sizing: border-box;padding-bottom: 0.4em;background-color: white;}#sk-container-id-3 div.sk-label label {font-family: monospace;font-weight: bold;display: inline-block;line-height: 1.2em;}#sk-container-id-3 div.sk-label-container {text-align: center;}#sk-container-id-3 div.sk-container {/* jupyter's `normalize.less` sets `[hidden] { display: none; }` but bootstrap.min.css set `[hidden] { display: none !important; }` so we also need the `!important` here to be able to override the default hidden behavior on the sphinx rendered scikit-learn.org. See: https://github.com/scikit-learn/scikit-learn/issues/21755 */display: inline-block !important;position: relative;}#sk-container-id-3 div.sk-text-repr-fallback {display: none;}</style><div id=\"sk-container-id-3\" class=\"sk-top-container\"><div class=\"sk-text-repr-fallback\"><pre>SVC()</pre><b>In a Jupyter environment, please rerun this cell to show the HTML representation or trust the notebook. <br />On GitHub, the HTML representation is unable to render, please try loading this page with nbviewer.org.</b></div><div class=\"sk-container\" hidden><div class=\"sk-item\"><div class=\"sk-estimator sk-toggleable\"><input class=\"sk-toggleable__control sk-hidden--visually\" id=\"sk-estimator-id-3\" type=\"checkbox\" checked><label for=\"sk-estimator-id-3\" class=\"sk-toggleable__label sk-toggleable__label-arrow\">SVC</label><div class=\"sk-toggleable__content\"><pre>SVC()</pre></div></div></div></div></div>"
            ]
          },
          "metadata": {},
          "execution_count": 34
        }
      ],
      "source": [
        "# Train a Gaussian KELM classifier\n",
        "kelm_classifier = SVC(kernel='rbf')\n",
        "kelm_classifier.fit(train_feature_maps, y_train)\n"
      ]
    },
    {
      "cell_type": "code",
      "execution_count": null,
      "metadata": {
        "id": "kBVDHjLJ8lfS"
      },
      "outputs": [],
      "source": [
        "# Testing\n",
        "y_pred = kelm_classifier.predict(test_feature_maps)\n"
      ]
    },
    {
      "cell_type": "code",
      "execution_count": null,
      "metadata": {
        "colab": {
          "base_uri": "https://localhost:8080/"
        },
        "id": "MC6-SUURHRs2",
        "outputId": "27120a6c-c7c0-49bf-a06d-90639e1343eb"
      },
      "outputs": [
        {
          "output_type": "stream",
          "name": "stdout",
          "text": [
            "Actual: Garima Panta, Predicted: Nischal Basnet\n",
            "Actual: Sabin Shrestha, Predicted: Niraj Baral\n",
            "Actual: Pooja Sharma, Predicted: Anuradha Koirala\n",
            "Actual: Keki Adhikari, Predicted: Niraj Baral\n",
            "Actual: Gauri Malla, Predicted: Pooja Sharma\n",
            "Actual: Pooja Sharma, Predicted: Amrita Acharia\n",
            "Actual: Aryan Sigdel, Predicted: Kushal Thapa\n",
            "Actual: Priyanka Karki, Predicted: Barsha Raut\n",
            "Actual: Deepak Raj Giri, Predicted: Rajesh Hamal\n",
            "Actual: Niraj Baral, Predicted: Paras Khadka\n"
          ]
        }
      ],
      "source": [
        "# Display some predictions\n",
        "for i in range(10):  # Adjust the range as needed\n",
        "    actual_label = label_encoder.inverse_transform([y_test[i]])[0]\n",
        "    predicted_label = label_encoder.inverse_transform([y_pred[i]])[0]\n",
        "    print(f\"Actual: {actual_label}, Predicted: {predicted_label}\")"
      ]
    },
    {
      "cell_type": "code",
      "execution_count": null,
      "metadata": {
        "colab": {
          "base_uri": "https://localhost:8080/"
        },
        "id": "6dOyjKYu0k9F",
        "outputId": "93c0b523-55d2-4e7a-efb6-bc49d961c497"
      },
      "outputs": [
        {
          "output_type": "stream",
          "name": "stdout",
          "text": [
            "Accuracy: 27.76%\n"
          ]
        }
      ],
      "source": [
        "# Evaluate the accuracy\n",
        "accuracy = accuracy_score(y_test, y_pred)\n",
        "print(f'Accuracy: {accuracy * 100:.2f}%')"
      ]
    }
  ],
  "metadata": {
    "colab": {
      "provenance": [],
      "include_colab_link": true
    },
    "kernelspec": {
      "display_name": "Python 3",
      "name": "python3"
    },
    "language_info": {
      "name": "python"
    }
  },
  "nbformat": 4,
  "nbformat_minor": 0
}